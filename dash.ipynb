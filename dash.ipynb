{
 "cells": [
  {
   "cell_type": "code",
   "execution_count": 1,
   "metadata": {},
   "outputs": [
    {
     "name": "stderr",
     "output_type": "stream",
     "text": [
      "/Users/vishalsehgal/Library/Python/3.9/lib/python/site-packages/urllib3/__init__.py:35: NotOpenSSLWarning: urllib3 v2 only supports OpenSSL 1.1.1+, currently the 'ssl' module is compiled with 'LibreSSL 2.8.3'. See: https://github.com/urllib3/urllib3/issues/3020\n",
      "  warnings.warn(\n"
     ]
    }
   ],
   "source": [
    "# Import required libraries\n",
    "import pandas as pd\n",
    "from jupyter_dash import JupyterDash\n",
    "from dash import dcc, html\n",
    "from dash.dependencies import Input, Output\n",
    "import plotly.graph_objects as go\n",
    "import os\n",
    "from dash import Dash\n",
    "from dash import Dash, dcc, html, Input, Output\n"
   ]
  },
  {
   "cell_type": "markdown",
   "metadata": {},
   "source": [
    "Main Feature\n",
    "1. Players performance coomparision : Compare players from different clubs when they face each other in their national teams during the World Cup.\n",
    "2. Team performance comparision : Analyze team performance and how well players know each other's strengths and weaknesses.\n"
   ]
  },
  {
   "cell_type": "markdown",
   "metadata": {},
   "source": [
    "Steps:\n",
    "1. Integrate Match Data:    Use the Fifa_Worldcup_2022_Groups.csv for match data.\n",
    "2. Filter Players Based on Match Selection:     Allow users to filter players by match, country, and club.\n",
    "3. Visual Comparison:   Display a visual comparison of player performance."
   ]
  },
  {
   "cell_type": "code",
   "execution_count": 2,
   "metadata": {},
   "outputs": [
    {
     "data": {
      "text/plain": [
       "['match',\n",
       " 'dayofweek',\n",
       " 'match_time',\n",
       " 'home_team',\n",
       " 'away_team',\n",
       " 'home_xg',\n",
       " 'away_xg',\n",
       " 'score',\n",
       " 'attendance',\n",
       " 'venue',\n",
       " 'referee',\n",
       " 'home_formation',\n",
       " 'away_formation',\n",
       " 'home_captain',\n",
       " 'away_captain',\n",
       " 'home_manager',\n",
       " 'away_manager',\n",
       " 'home_possession',\n",
       " 'away_possession',\n",
       " 'home_completed_passes',\n",
       " 'home_attempted_pases',\n",
       " 'away_completed_passes',\n",
       " 'away_attempted_pases',\n",
       " 'home_sot',\n",
       " 'away_sot',\n",
       " 'home_total_shots',\n",
       " 'away_total_shots',\n",
       " 'home_saves',\n",
       " 'away_saves',\n",
       " 'home_fouls',\n",
       " 'away_fouls',\n",
       " 'home_corners',\n",
       " 'away_corners',\n",
       " 'home_crosses',\n",
       " 'away_crosses',\n",
       " 'home_touches',\n",
       " 'away_touches',\n",
       " 'home_tackles',\n",
       " 'away_tackles',\n",
       " 'home_interceptions',\n",
       " 'away_interceptions',\n",
       " 'home_aerials_won',\n",
       " 'away_aerials_won',\n",
       " 'home_clearances',\n",
       " 'away_clearances',\n",
       " 'home_offsides',\n",
       " 'away_offsides',\n",
       " 'home_gks',\n",
       " 'away_gks',\n",
       " 'home_throw_ins',\n",
       " 'away_throw_ins',\n",
       " 'home_long_balls',\n",
       " 'away_long_balls']"
      ]
     },
     "execution_count": 2,
     "metadata": {},
     "output_type": "execute_result"
    }
   ],
   "source": [
    "player_data_file = 'assets/data/Players_Data_2022/FIFA22_official_data.csv'\n",
    "match_data_file = 'assets/data/Matchdata.csv'\n",
    "player_df = pd.read_csv(player_data_file)\n",
    "match_df = pd.read_csv(match_data_file)\n",
    "match_df.columns.tolist()\n",
    "#match_df.head()"
   ]
  },
  {
   "cell_type": "code",
   "execution_count": 3,
   "metadata": {},
   "outputs": [],
   "source": [
    "player_stats = player_df[['Name', 'Nationality', 'Overall', 'Club', \n",
    "                          'Crossing', 'Finishing', 'HeadingAccuracy', \n",
    "                          'ShortPassing', 'Volleys', 'Dribbling', \n",
    "                          'Curve', 'FKAccuracy', 'LongPassing', \n",
    "                          'BallControl', 'Acceleration', 'SprintSpeed', \n",
    "                          'Agility', 'Reactions', 'Balance', 'ShotPower', \n",
    "                          'Jumping', 'Stamina', 'Strength', 'LongShots', \n",
    "                          'Aggression', 'Interceptions', 'Positioning', \n",
    "                          'Vision', 'Penalties', 'Composure']]\n",
    "\n",
    "unique_matches = match_df.apply(lambda x: f\"{x['home_team']} vs {x['away_team']}\", axis=1).unique()\n",
    "unique_players = player_stats['Name'].unique()\n"
   ]
  },
  {
   "cell_type": "code",
   "execution_count": 4,
   "metadata": {},
   "outputs": [
    {
     "name": "stderr",
     "output_type": "stream",
     "text": [
      "/Users/vishalsehgal/Library/Python/3.9/lib/python/site-packages/dash/dash.py:556: UserWarning:\n",
      "\n",
      "JupyterDash is deprecated, use Dash instead.\n",
      "See https://dash.plotly.com/dash-in-jupyter for more details.\n",
      "\n"
     ]
    }
   ],
   "source": [
    "# Initialize the Dash app\n",
    "app = JupyterDash(__name__)"
   ]
  },
  {
   "cell_type": "code",
   "execution_count": 5,
   "metadata": {},
   "outputs": [],
   "source": [
    "# Define the layout of the Dash app\n",
    "app.layout = html.Div([\n",
    "    html.Header([\n",
    "        html.Img(src=app.get_asset_url('Worldcuplogo.png')),\n",
    "        html.Div([\n",
    "            html.H1('FIFA COMPARISON', className='header-title'),\n",
    "            html.H2('Exploring players play against each other in different teams', className='header-content'),\n",
    "            html.H3('Dashboard created by: Vishal Sehgal and Hieke van Heesch', className='header-content')\n",
    "        ], className='header-content')\n",
    "    ], className='header'),\n",
    "    html.Div([\n",
    "        dcc.Dropdown(\n",
    "            id='match-dropdown',\n",
    "            options=[{'label': match, 'value': match} for match in unique_matches],\n",
    "            value=None,\n",
    "            placeholder=\"Select Match\"\n",
    "        ),\n",
    "        dcc.Dropdown(\n",
    "            id='player1-dropdown',\n",
    "            options=[],\n",
    "            value=None,\n",
    "            placeholder=\"Select Player 1\"\n",
    "        ),\n",
    "        dcc.Dropdown(\n",
    "            id='player2-dropdown',\n",
    "            options=[],\n",
    "            value=None,\n",
    "            placeholder=\"Select Player 2\"\n",
    "        ),\n",
    "    ], className='dropdown-container'),\n",
    "    dcc.Graph(id='comparison-graph')\n",
    "])"
   ]
  },
  {
   "cell_type": "code",
   "execution_count": 6,
   "metadata": {},
   "outputs": [
    {
     "data": {
      "text/html": [
       "\n",
       "        <iframe\n",
       "            width=\"100%\"\n",
       "            height=\"650\"\n",
       "            src=\"http://127.0.0.1:8050/\"\n",
       "            frameborder=\"0\"\n",
       "            allowfullscreen\n",
       "            \n",
       "        ></iframe>\n",
       "        "
      ],
      "text/plain": [
       "<IPython.lib.display.IFrame at 0x1428ffeb0>"
      ]
     },
     "metadata": {},
     "output_type": "display_data"
    },
    {
     "data": {
      "text/html": [
       "\n",
       "        <iframe\n",
       "            width=\"100%\"\n",
       "            height=\"650\"\n",
       "            src=\"http://127.0.0.1:8050/\"\n",
       "            frameborder=\"0\"\n",
       "            allowfullscreen\n",
       "            \n",
       "        ></iframe>\n",
       "        "
      ],
      "text/plain": [
       "<IPython.lib.display.IFrame at 0x1428f6520>"
      ]
     },
     "metadata": {},
     "output_type": "display_data"
    }
   ],
   "source": [
    "# Define the callback to update player dropdowns based on selected match\n",
    "@app.callback(\n",
    "    [Output('player1-dropdown', 'options'),\n",
    "     Output('player2-dropdown', 'options')],\n",
    "    [Input('match-dropdown', 'value')]\n",
    ")\n",
    "def update_player_dropdowns(selected_match):\n",
    "    if selected_match is None:\n",
    "        return [], []\n",
    "\n",
    "    home_team, away_team = selected_match.split(' vs ')\n",
    "    players_in_match = player_stats[player_stats['Nationality'].isin([home_team, away_team])]\n",
    "    player_options = [{'label': player, 'value': player} for player in players_in_match['Name'].unique()]\n",
    "    \n",
    "    return player_options, player_options\n",
    "\n",
    "# Define the callback to update the graph\n",
    "@app.callback(\n",
    "    Output('comparison-graph', 'figure'),\n",
    "    [Input('player1-dropdown', 'value'),\n",
    "     Input('player2-dropdown', 'value')]\n",
    ")\n",
    "def update_graph(player1, player2):\n",
    "    if player1 is None or player2 is None:\n",
    "        return go.Figure()\n",
    "\n",
    "    player1_stats = player_stats[player_stats['Name'] == player1].iloc[0]\n",
    "    player2_stats = player_stats[player_stats['Name'] == player2].iloc[0]\n",
    "\n",
    "    categories = player1_stats.index[4:]  # Performance metrics columns\n",
    "    player1_values = player1_stats[4:].values\n",
    "    player2_values = player2_stats[4:].values\n",
    "\n",
    "    fig = go.Figure()\n",
    "\n",
    "    fig.add_trace(go.Scatterpolar(\n",
    "        r=player1_values,\n",
    "        theta=categories,\n",
    "        fill='toself',\n",
    "        name=player1\n",
    "    ))\n",
    "\n",
    "    fig.add_trace(go.Scatterpolar(\n",
    "        r=player2_values,\n",
    "        theta=categories,\n",
    "        fill='toself',\n",
    "        name=player2\n",
    "    ))\n",
    "\n",
    "    fig.update_layout(\n",
    "        polar=dict(\n",
    "            radialaxis=dict(\n",
    "                visible=True,\n",
    "                range=[0, 100]\n",
    "            )\n",
    "        ),\n",
    "        showlegend=True,\n",
    "        title=f'Comparison: {player1} vs {player2}'\n",
    "    )\n",
    "\n",
    "    return fig\n",
    "\n",
    "# Run the app\n",
    "app.run_server(mode='inline')\n"
   ]
  }
 ],
 "metadata": {
  "kernelspec": {
   "display_name": "Python 3",
   "language": "python",
   "name": "python3"
  },
  "language_info": {
   "codemirror_mode": {
    "name": "ipython",
    "version": 3
   },
   "file_extension": ".py",
   "mimetype": "text/x-python",
   "name": "python",
   "nbconvert_exporter": "python",
   "pygments_lexer": "ipython3",
   "version": "3.9.6"
  }
 },
 "nbformat": 4,
 "nbformat_minor": 2
}
